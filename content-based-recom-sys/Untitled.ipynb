{
 "cells": [
  {
   "cell_type": "markdown",
   "id": "99cdbd1e-cffd-4d4e-b8d2-e434874f7afb",
   "metadata": {},
   "source": [
    "Content Based Recommendation Systems!"
   ]
  },
  {
   "cell_type": "markdown",
   "id": "eb7f930b-35c5-4c70-b2b2-f1257d3a38c2",
   "metadata": {},
   "source": [
    "Calculating the cosine similarity"
   ]
  },
  {
   "cell_type": "code",
   "execution_count": 6,
   "id": "44c7b0c1-7a69-4618-85da-b9cecd70cde0",
   "metadata": {},
   "outputs": [],
   "source": [
    "from math import *\n",
    "def square_root(x):\n",
    "    return round(sqrt(sum([a*a for a in x])),3)\n",
    "\n",
    "def cosine_similarity(x,y):\n",
    "    numerator = sum(a*b for a,b in zip(x,y))\n",
    "    deno = square_root(x) * square_root(y)\n",
    "    return round((numerator/deno),3)\n",
    "    "
   ]
  },
  {
   "cell_type": "code",
   "execution_count": 7,
   "id": "4fad5841-5d6c-4d50-890e-c31b9e5fb2f2",
   "metadata": {},
   "outputs": [
    {
     "name": "stdout",
     "output_type": "stream",
     "text": [
      "0.972\n"
     ]
    }
   ],
   "source": [
    "print(cosine_similarity([3, 45, 7, 2], [2, 54, 13, 15]))"
   ]
  },
  {
   "cell_type": "code",
   "execution_count": 9,
   "id": "ba6831bf-c06a-412d-8ee8-6d9a5c414e3e",
   "metadata": {},
   "outputs": [],
   "source": [
    "import pandas as pd\n",
    "import numpy as np\n",
    "\n",
    "from sklearn.metrics.pairwise import cosine_similarity # performs same work as the cosine similarity we created above\n",
    "from sklearn.feature_extraction.text import CountVectorizer # performs same work as the Document Term Frequency we did earlier\n",
    "pd.set_option('display.max_columns', 100)\n",
    "df = pd.read_csv('https://query.data.world/s/uikepcpffyo2nhig52xxeevdialfl7')\n",
    "df\n"
   ]
  },
  {
   "cell_type": "code",
   "execution_count": null,
   "id": "adc256d5-5b23-4f33-9b51-6c39772ca256",
   "metadata": {},
   "outputs": [],
   "source": []
  }
 ],
 "metadata": {
  "kernelspec": {
   "display_name": "Python 3 (ipykernel)",
   "language": "python",
   "name": "python3"
  },
  "language_info": {
   "codemirror_mode": {
    "name": "ipython",
    "version": 3
   },
   "file_extension": ".py",
   "mimetype": "text/x-python",
   "name": "python",
   "nbconvert_exporter": "python",
   "pygments_lexer": "ipython3",
   "version": "3.10.9"
  }
 },
 "nbformat": 4,
 "nbformat_minor": 5
}
